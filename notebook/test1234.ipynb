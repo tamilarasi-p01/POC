{
    "nbformat": 4,
    "nbformat_minor": 2,
    "metadata": {
        "save_output": true,
        "synapse_widget": {
            "version": "0.1",
            "state": {}
        },
        "kernelspec": {
            "name": "synapse_pyspark",
            "display_name": "python"
        },
        "language_info": {
            "name": "python"
        }
    },
    "cells": [
        {
            "cell_type": "code",
            "metadata": {},
            "source": [
                "print(\"The notebook number is 1\")"
            ],
            "outputs": []
        }
    ]
}